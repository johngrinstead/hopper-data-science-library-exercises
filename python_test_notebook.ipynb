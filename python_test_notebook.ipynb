{
 "cells": [
  {
   "cell_type": "code",
   "execution_count": 1,
   "metadata": {},
   "outputs": [],
   "source": [
    "import itertools"
   ]
  },
  {
   "cell_type": "code",
   "execution_count": 2,
   "metadata": {},
   "outputs": [
    {
     "name": "stdout",
     "output_type": "stream",
     "text": [
      "('a', '1')\n",
      "('a', '2')\n",
      "('a', '3')\n",
      "('b', '1')\n",
      "('b', '2')\n",
      "('b', '3')\n",
      "('c', '1')\n",
      "('c', '2')\n",
      "('c', '3')\n"
     ]
    }
   ],
   "source": [
    "for i in itertools.product('abc', '123'):\n",
    "    print(i)\n"
   ]
  },
  {
   "cell_type": "code",
   "execution_count": 3,
   "metadata": {},
   "outputs": [
    {
     "name": "stdout",
     "output_type": "stream",
     "text": [
      "('a', 'b')\n",
      "('a', 'c')\n",
      "('a', 'd')\n",
      "('b', 'c')\n",
      "('b', 'd')\n",
      "('c', 'd')\n"
     ]
    }
   ],
   "source": [
    "for i in itertools.combinations('abcd', 2):\n",
    "    print(i)\n"
   ]
  },
  {
   "cell_type": "code",
   "execution_count": 4,
   "metadata": {},
   "outputs": [
    {
     "name": "stdout",
     "output_type": "stream",
     "text": [
      "('a', 'b')\n",
      "('a', 'c')\n",
      "('a', 'd')\n",
      "('b', 'a')\n",
      "('b', 'c')\n",
      "('b', 'd')\n",
      "('c', 'a')\n",
      "('c', 'b')\n",
      "('c', 'd')\n",
      "('d', 'a')\n",
      "('d', 'b')\n",
      "('d', 'c')\n"
     ]
    }
   ],
   "source": [
    "for i in itertools.permutations('abcd', 2):\n",
    "    print(i)"
   ]
  },
  {
   "cell_type": "code",
   "execution_count": 5,
   "metadata": {},
   "outputs": [
    {
     "name": "stdout",
     "output_type": "stream",
     "text": [
      "{'company_name': ['google', 'amazon', 'facebook'], 'pay_rate': [400, 380, 350], 'hour_worked': [6, 4, 10]}\n"
     ]
    }
   ],
   "source": [
    "payment_for_week = {'company_name':['google', 'amazon','facebook'],\n",
    "                    'pay_rate': [400, 380, 350],\n",
    "                    'hour_worked':[6, 4, 10]} \n",
    "print(payment_for_week)"
   ]
  },
  {
   "cell_type": "code",
   "execution_count": 6,
   "metadata": {},
   "outputs": [],
   "source": [
    "fruits = ['mango', 'kiwi', 'strawberry', 'guava', 'pineapple', 'mandarin orange']"
   ]
  },
  {
   "cell_type": "code",
   "execution_count": 7,
   "metadata": {},
   "outputs": [
    {
     "name": "stdout",
     "output_type": "stream",
     "text": [
      "['guava', 'pineapple', 'mandarin orange']\n"
     ]
    }
   ],
   "source": [
    "def more_than_two_vowels(fruits):\n",
    "    # check if input has moe than two vowels\n",
    "    return len ([item for item in fruits if item.lower() in 'aeiou'])> 2 \n",
    "    # now get lists of fruits with more than two vowels \n",
    "fruits_with_more_than_two_vowels = [fruit for fruit in fruits if more_than_two_vowels(fruit)==True]\n",
    "print(fruits_with_more_than_two_vowels)"
   ]
  },
  {
   "cell_type": "code",
   "execution_count": 8,
   "metadata": {},
   "outputs": [
    {
     "name": "stdin",
     "output_type": "stream",
     "text": [
      "['monday', 'tuesday', 'wednesday', 'thursday', 'friday', 'saturday', 'sunday'] monday\n"
     ]
    }
   ],
   "source": [
    "days = ['monday', 'tuesday', 'wednesday', 'thursday', 'friday', 'saturday', 'sunday']\n",
    "weekend = ['saturday', 'sunday']\n",
    "weekday = ['monday', 'tuesday', 'wednesday', 'thursday', 'friday']\n",
    "user_input = input(days)"
   ]
  },
  {
   "cell_type": "code",
   "execution_count": 9,
   "metadata": {},
   "outputs": [
    {
     "name": "stdout",
     "output_type": "stream",
     "text": [
      "It is weekend\n",
      "It is weekend\n",
      "It is weekend\n",
      "It is weekend\n",
      "It is weekend\n",
      "It is weekend\n",
      "It is weekend\n"
     ]
    }
   ],
   "source": [
    "for day in days:\n",
    "    if user_input == weekday:\n",
    "        print('It is weekday')\n",
    "    else:\n",
    "        print('It is weekend')"
   ]
  },
  {
   "cell_type": "code",
   "execution_count": 10,
   "metadata": {},
   "outputs": [
    {
     "name": "stdin",
     "output_type": "stream",
     "text": [
      "input number of hours worked 34\n"
     ]
    },
    {
     "name": "stdout",
     "output_type": "stream",
     "text": [
      "340\n"
     ]
    }
   ],
   "source": [
    "worked_hours = int (input('input number of hours worked'))\n",
    "rate = 10\n",
    "regular_check = worked_hours * rate \n",
    "overtime_check =  (regular_check + ((worked_hours - 40) * (rate * 1.5)))\n",
    "\n",
    "if worked_hours <= 40:\n",
    "    print(regular_check)\n",
    "else:\n",
    "    print(overtime_check)"
   ]
  },
  {
   "cell_type": "code",
   "execution_count": 11,
   "metadata": {},
   "outputs": [
    {
     "name": "stdin",
     "output_type": "stream",
     "text": [
      "enter a positive number 3\n"
     ]
    },
    {
     "name": "stdout",
     "output_type": "stream",
     "text": [
      "There is atable below \n",
      "number| sqaured| cubed\n",
      "------|--------  |------\n",
      "1    |1|    1\n",
      "2    |4|    8\n",
      "3    |9|    27\n"
     ]
    }
   ],
   "source": [
    "num = input('enter a positive number')\n",
    "print ('There is atable below ')\n",
    "print('number| sqaured| cubed')\n",
    "print('------|--------  |------')\n",
    "num = int(num)\n",
    "for i in range (1,4):\n",
    "    print(f'{i}    |{i**2}|    {i**3}')"
   ]
  },
  {
   "cell_type": "code",
   "execution_count": 12,
   "metadata": {},
   "outputs": [
    {
     "data": {
      "text/plain": [
       "''"
      ]
     },
     "execution_count": 12,
     "metadata": {},
     "output_type": "execute_result"
    }
   ],
   "source": [
    "def normalize_name(name):\n",
    "    new = ''\n",
    "    for character in name:\n",
    "        if character.lower() in character== ' ':\n",
    "            new += character.lower()\n",
    "    new= new.strip()\n",
    "    for word in new:\n",
    "        if character == ' ':\n",
    "            new=new.replace(' ', '_')\n",
    "    return new\n",
    "normalize_name('Name')\n",
    "normalize_name('First Name')\n",
    "normalize_name('% completed')"
   ]
  },
  {
   "cell_type": "code",
   "execution_count": 13,
   "metadata": {},
   "outputs": [
    {
     "data": {
      "text/plain": [
       "[('a', '1'),\n",
       " ('a', '2'),\n",
       " ('a', '3'),\n",
       " ('b', '1'),\n",
       " ('b', '2'),\n",
       " ('b', '3'),\n",
       " ('c', '1'),\n",
       " ('c', '2'),\n",
       " ('c', '3')]"
      ]
     },
     "execution_count": 13,
     "metadata": {},
     "output_type": "execute_result"
    }
   ],
   "source": [
    "\n",
    "import itertools\n",
    "list(itertools.product('abc','123'))"
   ]
  },
  {
   "cell_type": "code",
   "execution_count": 14,
   "metadata": {},
   "outputs": [
    {
     "data": {
      "text/plain": [
       "[('a', 'b'), ('a', 'c'), ('b', 'c')]"
      ]
     },
     "execution_count": 14,
     "metadata": {},
     "output_type": "execute_result"
    }
   ],
   "source": [
    "\n",
    "list(itertools.combinations('abc', 2))"
   ]
  },
  {
   "cell_type": "code",
   "execution_count": 15,
   "metadata": {},
   "outputs": [
    {
     "data": {
      "text/plain": [
       "[('a', 'b'), ('a', 'c'), ('b', 'a'), ('b', 'c'), ('c', 'a'), ('c', 'b')]"
      ]
     },
     "execution_count": 15,
     "metadata": {},
     "output_type": "execute_result"
    }
   ],
   "source": [
    "list(itertools.permutations('abc',2))"
   ]
  },
  {
   "cell_type": "code",
   "execution_count": 16,
   "metadata": {},
   "outputs": [
    {
     "name": "stdout",
     "output_type": "stream",
     "text": [
      "1350.0\n"
     ]
    }
   ],
   "source": [
    "\n",
    "weekly_work_hours = 45\n",
    "\n",
    "# the hourly rate\n",
    "hr = 20.00\n",
    "\n",
    "# how much the week's paycheck will be\n",
    "week_paycheck = weekly_work_hours * hr\n",
    "\n",
    "# write the python code that calculates the weekly paycheck. You get paid time and a half if you work more than 40 hours\n",
    "if weekly_work_hours <= 40:\n",
    "    print(week_paycheck)\n",
    "\n",
    "else:\n",
    "    week_paycheck = weekly_work_hours*(20*1.5)\n",
    "    print(week_paycheck)\n"
   ]
  },
  {
   "cell_type": "code",
   "execution_count": 17,
   "metadata": {},
   "outputs": [
    {
     "name": "stdin",
     "output_type": "stream",
     "text": [
      "Please enter a number: 324\n"
     ]
    },
    {
     "name": "stdout",
     "output_type": "stream",
     "text": [
      "324 x 1 = 324\n",
      "324 x 2 = 648\n",
      "324 x 3 = 972\n",
      "324 x 4 = 1296\n",
      "324 x 5 = 1620\n",
      "324 x 6 = 1944\n",
      "324 x 7 = 2268\n",
      "324 x 8 = 2592\n",
      "324 x 9 = 2916\n",
      "324 x 10 = 3240\n"
     ]
    }
   ],
   "source": [
    "n = int(input('Please enter a number:'))\n",
    "for i in range(1, 11):\n",
    "    print(n, 'x', i, '=', (n*i))"
   ]
  },
  {
   "cell_type": "code",
   "execution_count": 18,
   "metadata": {},
   "outputs": [
    {
     "name": "stdout",
     "output_type": "stream",
     "text": [
      "1\n",
      "22\n",
      "333\n",
      "4444\n",
      "55555\n",
      "666666\n",
      "7777777\n",
      "88888888\n",
      "999999999\n"
     ]
    }
   ],
   "source": [
    "for i in range(1, 10):\n",
    "    print(i*str(i))"
   ]
  },
  {
   "cell_type": "code",
   "execution_count": 19,
   "metadata": {},
   "outputs": [
    {
     "name": "stdin",
     "output_type": "stream",
     "text": [
      "Please enter an integer:  3\n",
      "Would you like to see its powers? y/n  n\n"
     ]
    }
   ],
   "source": [
    "sq_input = input('Please enter an integer: ')\n",
    "y_n_input = input('Would you like to see its powers? y/n ')\n",
    "if y_n_input.lower() == 'y':\n",
    "    print('\\nHere they are!\\n')\n",
    "    print(f'Number|\\tSquare|\\tCube')\n",
    "    print(f'------|\\t------|\\t----')\n",
    "    for n in range(1, int(sq_input) + 1):\n",
    "        print(f'{n:6}|\\t{(n ** 2):6}|\\t{(n ** 3):4}')"
   ]
  },
  {
   "cell_type": "code",
   "execution_count": 20,
   "metadata": {},
   "outputs": [
    {
     "name": "stdin",
     "output_type": "stream",
     "text": [
      "Please enter a grade (0-100) 23\n",
      "Would you like to continue? Y/N  n\n"
     ]
    }
   ],
   "source": [
    "grade_input = input('Please enter a grade (0-100)')\n",
    "cont_input = input('Would you like to continue? Y/N ')\n",
    "while cont_input.upper() == 'Y':\n",
    "    if int(grade_input) in range(0, 60):\n",
    "        if int(grade_input) in range(0, 2):\n",
    "            print('F-')\n",
    "        elif int(grade_input) in range(58,60):\n",
    "            print('F+')\n",
    "        else:\n",
    "            print('F')\n",
    "        break\n",
    "    elif int(grade_input) in range(60, 67):\n",
    "        if int(grade_input) in range(60, 62):\n",
    "            print('D-')\n",
    "        elif int(grade_input) in range(65,67):\n",
    "            print('D+')\n",
    "        else:\n",
    "            print('D')\n",
    "        break\n",
    "    elif int(grade_input) in range(67, 80):\n",
    "        if int(grade_input) in range(67, 69):\n",
    "            print('C-')\n",
    "        elif int(grade_input) in range(78,80):\n",
    "            print('C+')\n",
    "        else:\n",
    "            print('C')\n",
    "        break\n",
    "    elif int(grade_input) in range(80, 88):\n",
    "        if int(grade_input) in range(80, 82):\n",
    "            print('B-')\n",
    "        elif int(grade_input) in range(86,88):\n",
    "            print('B+')\n",
    "        else:\n",
    "            print('B')\n",
    "        break\n",
    "    else:\n",
    "        if int(grade_input) in range(88, 90):\n",
    "            print('A-')\n",
    "        elif int(grade_input) in range(99,101):\n",
    "            print('A+')\n",
    "        else:\n",
    "            print('A')\n",
    "        break\n"
   ]
  },
  {
   "cell_type": "code",
   "execution_count": 21,
   "metadata": {},
   "outputs": [
    {
     "name": "stdin",
     "output_type": "stream",
     "text": [
      "Enter the numerical grade:  23\n"
     ]
    },
    {
     "name": "stdout",
     "output_type": "stream",
     "text": [
      "F\n"
     ]
    },
    {
     "name": "stdin",
     "output_type": "stream",
     "text": [
      "Continue?  n\n"
     ]
    }
   ],
   "source": [
    "\n",
    "#prompt user for numerical grade from 0 to 100\n",
    "user_input = input('Enter the numerical grade: ')\n",
    "\n",
    "#convert input from str to int type\n",
    "num_grade = int(user_input)\n",
    "\n",
    "#display corresponding letter grade\n",
    "while True:\n",
    "    if num_grade >= 88:\n",
    "        print('A')\n",
    "    if num_grade >= 80:\n",
    "        print('B')\n",
    "    if num_grade >= 67:\n",
    "        print('C')\n",
    "    if num_grade >= 60:\n",
    "        print('D')\n",
    "    if num_grade <= 59:\n",
    "        print('F')\n",
    "    choice = input('Continue? ')\n",
    "    if choice.lower() != ['y']:\n",
    "        break   "
   ]
  },
  {
   "cell_type": "code",
   "execution_count": 22,
   "metadata": {},
   "outputs": [
    {
     "name": "stdin",
     "output_type": "stream",
     "text": [
      "enter a number between 0 and 100:  23\n"
     ]
    },
    {
     "name": "stdout",
     "output_type": "stream",
     "text": [
      "F\n"
     ]
    },
    {
     "name": "stdin",
     "output_type": "stream",
     "text": [
      "continue?  n\n"
     ]
    }
   ],
   "source": [
    "while True:\n",
    "    n = int(input('enter a number between 0 and 100: '))\n",
    "    if 88<=n<=100: print('A')\n",
    "    if 80<=n<=87: print('B')\n",
    "    if 67<=n<=79: print('C')\n",
    "    if 60<=n<=66: print('D')\n",
    "    if n<=59: print('F')\n",
    "    a = input('continue? ').lower()\n",
    "    if a != 'y':\n",
    "        break"
   ]
  },
  {
   "cell_type": "code",
   "execution_count": 23,
   "metadata": {},
   "outputs": [
    {
     "name": "stdin",
     "output_type": "stream",
     "text": [
      "Enter your grade:  23\n"
     ]
    },
    {
     "name": "stdout",
     "output_type": "stream",
     "text": [
      "F\n"
     ]
    },
    {
     "name": "stdin",
     "output_type": "stream",
     "text": [
      "Would you like to continue ? y/n  n\n"
     ]
    }
   ],
   "source": [
    "grades_inputed_to_letter = input(\"Enter your grade: \")\n",
    "\n",
    "while grades_inputed_to_letter.isdigit() != True or int(grades_inputed_to_letter) > 100 or int(grades_inputed_to_letter) < 0:\n",
    "    print(\"Not a valid grade number!\\n\")\n",
    "    grades_inputed_to_letter = input(\"Enter your grade: \")\n",
    "    \n",
    "grades_inputed_to_letter = int(grades_inputed_to_letter)\n",
    "\n",
    "\n",
    "consent = \"y\"\n",
    "    \n",
    "while  consent != \"n\":\n",
    "    if grades_inputed_to_letter > 97:\n",
    "        print(\"A+\")\n",
    "    elif grades_inputed_to_letter > 93:\n",
    "        print(\"A\")\n",
    "    elif grades_inputed_to_letter > 87:\n",
    "        print(\"A-\")\n",
    "    elif grades_inputed_to_letter > 85:\n",
    "        print(\"B+\")\n",
    "    elif grades_inputed_to_letter > 83:\n",
    "        print(\"B\")\n",
    "    elif grades_inputed_to_letter > 79:\n",
    "        print(\"B-\")\n",
    "    elif grades_inputed_to_letter > 75:\n",
    "        print(\"C+\")\n",
    "    elif grades_inputed_to_letter > 70:\n",
    "        print(\"C\")\n",
    "    elif grades_inputed_to_letter > 66:\n",
    "        print(\"C-\")\n",
    "    elif grades_inputed_to_letter > 63:\n",
    "        print(\"D+\")\n",
    "    elif grades_inputed_to_letter > 60:\n",
    "        print(\"D\")\n",
    "    elif grades_inputed_to_letter > 59:\n",
    "        print(\"D-\")\n",
    "    else:\n",
    "        print(\"F\")\n",
    "    \n",
    "\n",
    "    consent = input(\"Would you like to continue ? y/n \")\n",
    "    \n",
    "    while consent != 'n' and consent !='y':\n",
    "        print(\"Invalid consent letter!\\n\")\n",
    "        consent = input(\"Would you like to continue ? y/n \")\n",
    "\n",
    "    if consent == \"y\":\n",
    "        grades_inputed_to_letter = input(\"Enter your grade: \")\n",
    "        \n",
    "        while grades_inputed_to_letter.isdigit() != True or int(grades_inputed_to_letter) > 100 or int(grades_inputed_to_letter) < 0:\n",
    "            print(\"Not a valid grade number!\\n\")\n",
    "            grades_inputed_to_letter = input(\"Enter your grade: \")\n",
    "            \n",
    "        grades_inputed_to_letter = int(grades_inputed_to_letter)"
   ]
  },
  {
   "cell_type": "code",
   "execution_count": 24,
   "metadata": {},
   "outputs": [],
   "source": [
    "fruits = ['mango', 'kiwi', 'strawberry', 'guava', 'pineapple', 'mandarin orange']\n",
    "\n",
    "numbers = [2, 3, 4, 5, 6, 7, 8, 9, 10, 11, 13, 17, 19, 23, 256, -8, -4, -2, 5, -9]"
   ]
  },
  {
   "cell_type": "code",
   "execution_count": 25,
   "metadata": {},
   "outputs": [
    {
     "name": "stdin",
     "output_type": "stream",
     "text": [
      "What number would you like to go up to? :  4\n"
     ]
    },
    {
     "name": "stdout",
     "output_type": "stream",
     "text": [
      "Here is your table\n",
      "Number    Square   Cube \n",
      "1          1        1\n",
      "2          4        8\n",
      "3          9        27\n",
      "4          16        64\n"
     ]
    }
   ],
   "source": [
    "user_num = int(input(\"What number would you like to go up to? : \"))\n",
    "print('Here is your table')\n",
    "print(\"Number  \", \" Square \", \" Cube \")\n",
    "i = 1\n",
    "while i <= user_num:\n",
    "    print(i,\"        \", i*i,\"      \",i*i*i )\n",
    "    i +=1\n",
    "    "
   ]
  },
  {
   "cell_type": "code",
   "execution_count": 26,
   "metadata": {},
   "outputs": [
    {
     "name": "stdout",
     "output_type": "stream",
     "text": [
      "9\n"
     ]
    }
   ],
   "source": [
    "product = itertools.product('abc',[1,2,3])\n",
    "product_list = [p for p in product]\n",
    "print(len(product_list))"
   ]
  },
  {
   "cell_type": "code",
   "execution_count": 27,
   "metadata": {},
   "outputs": [
    {
     "name": "stdout",
     "output_type": "stream",
     "text": [
      "[('a', 'b'), ('a', 'c'), ('a', 'd'), ('b', 'c'), ('b', 'd'), ('c', 'd')]\n",
      "6\n"
     ]
    }
   ],
   "source": [
    "combo = itertools.combinations('abcd',2)\n",
    "combo_list = [c for c in combo]\n",
    "print(combo_list)\n",
    "print(len(combo_list))"
   ]
  },
  {
   "cell_type": "code",
   "execution_count": 28,
   "metadata": {},
   "outputs": [
    {
     "name": "stdout",
     "output_type": "stream",
     "text": [
      "[('a', 'b'), ('a', 'c'), ('a', 'd'), ('b', 'a'), ('b', 'c'), ('b', 'd'), ('c', 'a'), ('c', 'b'), ('c', 'd'), ('d', 'a'), ('d', 'b'), ('d', 'c')]\n",
      "12\n"
     ]
    }
   ],
   "source": [
    "perm = itertools.permutations('abcd',2)\n",
    "perm_list = [p for p in perm]\n",
    "print(perm_list)\n",
    "print(len(perm_list))"
   ]
  },
  {
   "cell_type": "code",
   "execution_count": 29,
   "metadata": {},
   "outputs": [
    {
     "name": "stdout",
     "output_type": "stream",
     "text": [
      "2\n",
      "4\n",
      "16\n",
      "256\n",
      "65536\n"
     ]
    }
   ],
   "source": [
    "i = 2\n",
    "while i < 100000:\n",
    "    print(i)\n",
    "    i = i ** 2"
   ]
  },
  {
   "cell_type": "code",
   "execution_count": 30,
   "metadata": {},
   "outputs": [
    {
     "name": "stdin",
     "output_type": "stream",
     "text": [
      "enter an integer:  3\n"
     ]
    },
    {
     "name": "stdout",
     "output_type": "stream",
     "text": [
      "Table of Powers\n",
      "number | squared | cubed\n",
      "------ | ------ | ------\n",
      " 1   |  1   |  1\n",
      " 2   |  4   |  8\n",
      " 3   |  9   |  27\n"
     ]
    }
   ],
   "source": [
    "\n",
    "number = int(input (\"enter an integer: \"))\n",
    "print(\"Table of Powers\")\n",
    "print('number | squared | cubed')\n",
    "print('------ | ------ | ------')\n",
    "\n",
    "num = int(number)\n",
    "for i in range (1, num + 1):\n",
    "    print(f' {i}   |  {i ** 2}   |  {i **3}')"
   ]
  },
  {
   "cell_type": "code",
   "execution_count": 31,
   "metadata": {},
   "outputs": [
    {
     "name": "stdin",
     "output_type": "stream",
     "text": [
      "Please enter a odd number between 1 and 50 5\n"
     ]
    },
    {
     "name": "stdout",
     "output_type": "stream",
     "text": [
      "the number to skip is 5\n",
      "Here is an odd number 1\n",
      "Here is an odd number 3\n",
      "Yikes, skipping this number 5\n",
      "Here is an odd number 7\n",
      "Here is an odd number 9\n",
      "Here is an odd number 11\n",
      "Here is an odd number 13\n",
      "Here is an odd number 15\n",
      "Here is an odd number 17\n",
      "Here is an odd number 19\n",
      "Here is an odd number 21\n",
      "Here is an odd number 23\n",
      "Here is an odd number 25\n",
      "Here is an odd number 27\n",
      "Here is an odd number 29\n",
      "Here is an odd number 31\n",
      "Here is an odd number 33\n",
      "Here is an odd number 35\n",
      "Here is an odd number 37\n",
      "Here is an odd number 39\n",
      "Here is an odd number 41\n",
      "Here is an odd number 43\n",
      "Here is an odd number 45\n",
      "Here is an odd number 47\n",
      "Here is an odd number 49\n"
     ]
    }
   ],
   "source": [
    "\n",
    "num = input('Please enter a odd number between 1 and 50')\n",
    "type(num)\n",
    "\n",
    "while True:\n",
    "    if (num.isdigit() == False\n",
    "       or int(num) > 50 \n",
    "        or int(num) <=0 \n",
    "        or int(num) % 2 ==0):\n",
    "        print('Invalid Input')\n",
    "        num = input('plesase enter a odd number between 1 and 50:')\n",
    "    else:\n",
    "        break \n",
    "            \n",
    "num = int(num)\n",
    "print('the number to skip is', num)\n",
    "        \n",
    "for i in range(1,50):\n",
    "    if i % 2 == 0:\n",
    "        continue\n",
    "    elif i == num:\n",
    "        print('Yikes, skipping this number',i)\n",
    "    else:\n",
    "        print('Here is an odd number', i)"
   ]
  },
  {
   "cell_type": "code",
   "execution_count": 32,
   "metadata": {},
   "outputs": [
    {
     "name": "stdout",
     "output_type": "stream",
     "text": [
      "2\n",
      "4\n",
      "16\n",
      "256\n",
      "65536\n"
     ]
    }
   ],
   "source": [
    "squared_loops = 2\n",
    "while squared_loops <= 1000000:\n",
    "    print(squared_loops)\n",
    "    squared_loops = squared_loops ** 2"
   ]
  },
  {
   "cell_type": "code",
   "execution_count": 33,
   "metadata": {},
   "outputs": [
    {
     "name": "stdout",
     "output_type": "stream",
     "text": [
      "Bummer, it's a weekday\n"
     ]
    }
   ],
   "source": [
    "today = 'Monday'\n",
    "weekday = ['Monday', 'Tuesday', 'Wednesday', 'Thursday', 'Friday']\n",
    "if today in weekday:\n",
    "    print('Bummer, it\\'s a weekday')\n",
    "else:\n",
    "    print('It\\'s the weekend!')"
   ]
  },
  {
   "cell_type": "code",
   "execution_count": 34,
   "metadata": {},
   "outputs": [],
   "source": [
    "i = 2\n",
    "while i > 1_000_000:\n",
    "    print(i)\n",
    "    i = i * i"
   ]
  },
  {
   "cell_type": "code",
   "execution_count": null,
   "metadata": {},
   "outputs": [],
   "source": []
  }
 ],
 "metadata": {
  "kernelspec": {
   "display_name": "Python 3",
   "language": "python",
   "name": "python3"
  },
  "language_info": {
   "codemirror_mode": {
    "name": "ipython",
    "version": 3
   },
   "file_extension": ".py",
   "mimetype": "text/x-python",
   "name": "python",
   "nbconvert_exporter": "python",
   "pygments_lexer": "ipython3",
   "version": "3.8.5"
  }
 },
 "nbformat": 4,
 "nbformat_minor": 4
}
