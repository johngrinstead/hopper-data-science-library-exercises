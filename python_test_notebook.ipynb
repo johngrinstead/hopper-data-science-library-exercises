{
 "cells": [
  {
   "cell_type": "code",
   "execution_count": 1,
   "metadata": {},
   "outputs": [],
   "source": [
    "import itertools"
   ]
  },
  {
   "cell_type": "code",
   "execution_count": 2,
   "metadata": {},
   "outputs": [
    {
     "name": "stdout",
     "output_type": "stream",
     "text": [
      "('a', '1')\n",
      "('a', '2')\n",
      "('a', '3')\n",
      "('b', '1')\n",
      "('b', '2')\n",
      "('b', '3')\n",
      "('c', '1')\n",
      "('c', '2')\n",
      "('c', '3')\n"
     ]
    }
   ],
   "source": [
    "for i in itertools.product('abc', '123'):\n",
    "    print(i)\n"
   ]
  },
  {
   "cell_type": "code",
   "execution_count": 3,
   "metadata": {},
   "outputs": [
    {
     "name": "stdout",
     "output_type": "stream",
     "text": [
      "('a', 'b')\n",
      "('a', 'c')\n",
      "('a', 'd')\n",
      "('b', 'c')\n",
      "('b', 'd')\n",
      "('c', 'd')\n"
     ]
    }
   ],
   "source": [
    "for i in itertools.combinations('abcd', 2):\n",
    "    print(i)\n"
   ]
  },
  {
   "cell_type": "code",
   "execution_count": 4,
   "metadata": {},
   "outputs": [
    {
     "name": "stdout",
     "output_type": "stream",
     "text": [
      "('a', 'b')\n",
      "('a', 'c')\n",
      "('a', 'd')\n",
      "('b', 'a')\n",
      "('b', 'c')\n",
      "('b', 'd')\n",
      "('c', 'a')\n",
      "('c', 'b')\n",
      "('c', 'd')\n",
      "('d', 'a')\n",
      "('d', 'b')\n",
      "('d', 'c')\n"
     ]
    }
   ],
   "source": [
    "for i in itertools.permutations('abcd', 2):\n",
    "    print(i)"
   ]
  },
  {
   "cell_type": "code",
   "execution_count": 5,
   "metadata": {},
   "outputs": [
    {
     "name": "stdout",
     "output_type": "stream",
     "text": [
      "{'company_name': ['google', 'amazon', 'facebook'], 'pay_rate': [400, 380, 350], 'hour_worked': [6, 4, 10]}\n"
     ]
    }
   ],
   "source": [
    "payment_for_week = {'company_name':['google', 'amazon','facebook'],\n",
    "                    'pay_rate': [400, 380, 350],\n",
    "                    'hour_worked':[6, 4, 10]} \n",
    "print(payment_for_week)"
   ]
  },
  {
   "cell_type": "code",
   "execution_count": 6,
   "metadata": {},
   "outputs": [],
   "source": [
    "fruits = ['mango', 'kiwi', 'strawberry', 'guava', 'pineapple', 'mandarin orange']"
   ]
  },
  {
   "cell_type": "code",
   "execution_count": 7,
   "metadata": {},
   "outputs": [
    {
     "name": "stdout",
     "output_type": "stream",
     "text": [
      "['guava', 'pineapple', 'mandarin orange']\n"
     ]
    }
   ],
   "source": [
    "def more_than_two_vowels(fruits):\n",
    "    # check if input has moe than two vowels\n",
    "    return len ([item for item in fruits if item.lower() in 'aeiou'])> 2 \n",
    "    # now get lists of fruits with more than two vowels \n",
    "fruits_with_more_than_two_vowels = [fruit for fruit in fruits if more_than_two_vowels(fruit)==True]\n",
    "print(fruits_with_more_than_two_vowels)"
   ]
  },
  {
   "cell_type": "code",
   "execution_count": 8,
   "metadata": {},
   "outputs": [
    {
     "name": "stdin",
     "output_type": "stream",
     "text": [
      "['monday', 'tuesday', 'wednesday', 'thursday', 'friday', 'saturday', 'sunday'] monday\n"
     ]
    }
   ],
   "source": [
    "days = ['monday', 'tuesday', 'wednesday', 'thursday', 'friday', 'saturday', 'sunday']\n",
    "weekend = ['saturday', 'sunday']\n",
    "weekday = ['monday', 'tuesday', 'wednesday', 'thursday', 'friday']\n",
    "user_input = input(days)"
   ]
  },
  {
   "cell_type": "code",
   "execution_count": 9,
   "metadata": {},
   "outputs": [
    {
     "name": "stdout",
     "output_type": "stream",
     "text": [
      "It is weekend\n",
      "It is weekend\n",
      "It is weekend\n",
      "It is weekend\n",
      "It is weekend\n",
      "It is weekend\n",
      "It is weekend\n"
     ]
    }
   ],
   "source": [
    "for day in days:\n",
    "    if user_input == weekday:\n",
    "        print('It is weekday')\n",
    "    else:\n",
    "        print('It is weekend')"
   ]
  },
  {
   "cell_type": "code",
   "execution_count": 12,
   "metadata": {},
   "outputs": [
    {
     "name": "stdin",
     "output_type": "stream",
     "text": [
      "input number of hours worked 45\n"
     ]
    },
    {
     "name": "stdout",
     "output_type": "stream",
     "text": [
      "525.0\n"
     ]
    }
   ],
   "source": [
    "worked_hours = int (input('input number of hours worked'))\n",
    "rate = 10\n",
    "regular_check = worked_hours * rate \n",
    "overtime_check =  (regular_check + ((worked_hours - 40) * (rate * 1.5)))\n",
    "\n",
    "if worked_hours <= 40:\n",
    "    print(regular_check)\n",
    "else:\n",
    "    print(overtime_check)"
   ]
  },
  {
   "cell_type": "code",
   "execution_count": 13,
   "metadata": {},
   "outputs": [
    {
     "name": "stdin",
     "output_type": "stream",
     "text": [
      "enter a positive number 9\n"
     ]
    },
    {
     "name": "stdout",
     "output_type": "stream",
     "text": [
      "There is atable below \n",
      "number| sqaured| cubed\n",
      "------|--------  |------\n",
      "1    |1|    1\n",
      "2    |4|    8\n",
      "3    |9|    27\n"
     ]
    }
   ],
   "source": [
    "num = input('enter a positive number')\n",
    "print ('There is atable below ')\n",
    "print('number| sqaured| cubed')\n",
    "print('------|--------  |------')\n",
    "num = int(num)\n",
    "for i in range (1,4):\n",
    "    print(f'{i}    |{i**2}|    {i**3}')"
   ]
  },
  {
   "cell_type": "code",
   "execution_count": 18,
   "metadata": {},
   "outputs": [
    {
     "data": {
      "text/plain": [
       "''"
      ]
     },
     "execution_count": 18,
     "metadata": {},
     "output_type": "execute_result"
    }
   ],
   "source": [
    "def normalize_name(name):\n",
    "    new = ''\n",
    "    for character in name:\n",
    "        if character.lower() in character== ' ':\n",
    "            new += character.lower()\n",
    "    new= new.strip()\n",
    "    for word in new:\n",
    "        if character == ' ':\n",
    "            new=new.replace(' ', '_')\n",
    "    return new\n",
    "normalize_name('Name')\n",
    "normalize_name('First Name')\n",
    "normalize_name('% completed')"
   ]
  },
  {
   "cell_type": "code",
   "execution_count": 19,
   "metadata": {},
   "outputs": [
    {
     "data": {
      "text/plain": [
       "[('a', '1'),\n",
       " ('a', '2'),\n",
       " ('a', '3'),\n",
       " ('b', '1'),\n",
       " ('b', '2'),\n",
       " ('b', '3'),\n",
       " ('c', '1'),\n",
       " ('c', '2'),\n",
       " ('c', '3')]"
      ]
     },
     "execution_count": 19,
     "metadata": {},
     "output_type": "execute_result"
    }
   ],
   "source": [
    "\n",
    "import itertools\n",
    "list(itertools.product('abc','123'))"
   ]
  },
  {
   "cell_type": "code",
   "execution_count": 20,
   "metadata": {},
   "outputs": [
    {
     "data": {
      "text/plain": [
       "[('a', 'b'), ('a', 'c'), ('b', 'c')]"
      ]
     },
     "execution_count": 20,
     "metadata": {},
     "output_type": "execute_result"
    }
   ],
   "source": [
    "\n",
    "list(itertools.combinations('abc', 2))"
   ]
  },
  {
   "cell_type": "code",
   "execution_count": 21,
   "metadata": {},
   "outputs": [
    {
     "data": {
      "text/plain": [
       "[('a', 'b'), ('a', 'c'), ('b', 'a'), ('b', 'c'), ('c', 'a'), ('c', 'b')]"
      ]
     },
     "execution_count": 21,
     "metadata": {},
     "output_type": "execute_result"
    }
   ],
   "source": [
    "list(itertools.permutations('abc',2))"
   ]
  },
  {
   "cell_type": "code",
   "execution_count": 23,
   "metadata": {},
   "outputs": [
    {
     "name": "stdout",
     "output_type": "stream",
     "text": [
      "1350.0\n"
     ]
    }
   ],
   "source": [
    "\n",
    "weekly_work_hours = 45\n",
    "\n",
    "# the hourly rate\n",
    "hr = 20.00\n",
    "\n",
    "# how much the week's paycheck will be\n",
    "week_paycheck = weekly_work_hours * hr\n",
    "\n",
    "# write the python code that calculates the weekly paycheck. You get paid time and a half if you work more than 40 hours\n",
    "if weekly_work_hours <= 40:\n",
    "    print(week_paycheck)\n",
    "\n",
    "else:\n",
    "    week_paycheck = weekly_work_hours*(20*1.5)\n",
    "    print(week_paycheck)\n"
   ]
  },
  {
   "cell_type": "code",
   "execution_count": null,
   "metadata": {},
   "outputs": [],
   "source": []
  }
 ],
 "metadata": {
  "kernelspec": {
   "display_name": "Python 3",
   "language": "python",
   "name": "python3"
  },
  "language_info": {
   "codemirror_mode": {
    "name": "ipython",
    "version": 3
   },
   "file_extension": ".py",
   "mimetype": "text/x-python",
   "name": "python",
   "nbconvert_exporter": "python",
   "pygments_lexer": "ipython3",
   "version": "3.8.5"
  }
 },
 "nbformat": 4,
 "nbformat_minor": 4
}
